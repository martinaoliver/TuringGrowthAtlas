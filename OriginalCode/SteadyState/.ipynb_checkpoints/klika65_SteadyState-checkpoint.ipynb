{
 "cells": [
  {
   "cell_type": "code",
   "execution_count": 1,
   "metadata": {},
   "outputs": [],
   "source": [
    "import numpy as np\n",
    "from scipy import optimize\n",
    "from sympy import *\n",
    "from scipy.integrate import odeint\n",
    "\n"
   ]
  },
  {
   "cell_type": "markdown",
   "metadata": {},
   "source": [
    "This script describes different methods to obtain the steady states or equilibrium points of a systems. \n",
    "\n",
    "Those values can be obtained by setting the differential equation to zero and solving for $u$\n",
    "\n",
    "$$\\frac{\\partial u}{\\partial t} = 0$$\n",
    "\n",
    "Several methods can be used to compute the steady state $U^*$. In this notebook, we will follow a python implementation of the analytical method, the ODE method, and the Crank-Nicolson."
   ]
  },
  {
   "cell_type": "markdown",
   "metadata": {},
   "source": [
    "The system used as an example is the klika2021_65.\n",
    "\n",
    "\n",
    "$$\\frac{\\partial u}{\\partial t} = a-u+u^2v +  D_u \\frac{\\partial^2 u}{\\partial x^2} ,$$\n",
    "\n",
    "$$\\frac{\\partial v}{\\partial t} = \\frac{b}{(a+b)^2} +  D_v \\frac{\\partial^2 v}{\\partial x^2} $$ \n",
    "\n",
    "\n",
    "Original paper: Gorder,Klika,Krause 2021 https://doi.org/10.1007/s00285-021-01552-y\n"
   ]
  },
  {
   "cell_type": "markdown",
   "metadata": {},
   "source": [
    "### Analytical method"
   ]
  },
  {
   "cell_type": "markdown",
   "metadata": {},
   "source": [
    "Most accurate and computationally efficient way to calculate steady states. However, it only works for simple systems such as the klika2021_65. More complex systems such as the atlas topologies which contain Hill terms cannot be computed analytically. \n",
    "\n",
    "The following expression is obtained using pen and paper but $sympy.solve()$ can also compute an analytical expression of the steady state.\n",
    "\n"
   ]
  },
  {
   "cell_type": "code",
   "execution_count": 2,
   "metadata": {},
   "outputs": [
    {
     "name": "stdout",
     "output_type": "stream",
     "text": [
      "Steady state\n",
      "[1.1, 0.9090909090909091]\n"
     ]
    }
   ],
   "source": [
    "a = 0\n",
    "b =1.1\n",
    "Ustar_analytic = [a+b, b/(a+b)**2] \n",
    "print('Steady state')\n",
    "print(Ustar_analytic)"
   ]
  },
  {
   "cell_type": "markdown",
   "metadata": {},
   "source": [
    "### ODE solver"
   ]
  },
  {
   "cell_type": "code",
   "execution_count": 3,
   "metadata": {},
   "outputs": [],
   "source": [
    "def klika2021_65(u,t,params = [0,1.1]): \n",
    "    a,b = params\n",
    "    f_u0 = a - u[0] + (u[0]**2)*u[1]\n",
    "    f_u1 = b - (u[0]**2)*u[1]\n",
    "    return f_u0,f_u1"
   ]
  },
  {
   "cell_type": "code",
   "execution_count": 4,
   "metadata": {},
   "outputs": [
    {
     "data": {
      "image/png": "[encoded data removed]",
      "text/plain": [
       "<Figure size 432x288 with 1 Axes>"
      ]
     },
     "metadata": {
      "needs_background": "light"
     },
     "output_type": "display_data"
    },
    {
     "name": "stdout",
     "output_type": "stream",
     "text": [
      "Steady state\n",
      "[1.1008924  0.90880478]\n"
     ]
    }
   ],
   "source": [
    "T=60\n",
    "t = np.linspace(0, T, T*1000)\n",
    "sol = odeint(klika2021_65, [10,10], t)\n",
    "import matplotlib.pyplot as plt\n",
    "plt.plot(t[:], sol[:, 0], 'b', label='theta(t)')\n",
    "plt.plot(t[:], sol[:, 1], 'g', label='omega(t)')\n",
    "plt.legend(loc='best')\n",
    "plt.xlabel('t')\n",
    "plt.grid()\n",
    "plt.show()\n",
    "Ustar_ODE=sol[-1]\n",
    "print('Steady state')\n",
    "print(Ustar_ODE)"
   ]
  },
  {
   "cell_type": "markdown",
   "metadata": {},
   "source": [
    "### Newton-Raphson method"
   ]
  },
  {
   "cell_type": "markdown",
   "metadata": {},
   "source": [
    "The following section describes the Newton-Raphson method: a root-finding method to solve systems of non-linear differential equations. This method will be used to obtain the equilibrium points of our system without the diffusion terms. A workflow diagram below shows the Newton-Raphson method by steps. The detailed method can be found in https://link.springer.com/content/pdf/bbm%3A978-3-319-69407-8%2F1.pdf. \n",
    "\n",
    "The roots of a system of $n$ nonlinear equations with $n$ variables is found through the process described below. The system of equations can be expressed as $\\textbf{f(x) = 0}$, using the following vectors to define the system:\n",
    "\\begin{equation}\n",
    "    \\textbf{f(x)} = [f_1(x), f_2(x), ... , f_n(x)]\\\\\n",
    "\\end{equation}\n",
    "\\begin{equation}\n",
    "\\textbf{x} = [x_1, x_2, ... , x_n]\\\\\n",
    "\\end{equation}\n",
    "\\begin{equation}\n",
    "\\textbf{0} = [0,0, ... ,0]\n",
    "\\end{equation}\n",
    "\n",
    "The system can also be written in more detail as:\n",
    "\\begin{equation}\n",
    "\\begin{cases} f_1(x_1,x_2,...,f_n)=0 \\\\f_2(x_1,x_2,...,f_n)=0\\\\ \\hspace{1.5cm}\\vdots\\\\f_n(x_1,x_2,...,f_n)=0 \\end{cases}\n",
    "\\end{equation}\n",
    "A value  $\\textbf{x}^0$ will be defined which is the starting condition. A value $\\Delta \\textbf{x}^0$ needs to be found for which $\\textbf{f(x)}^1=\\textbf{f}(\\textbf{x}^0 + \\Delta \\textbf{x}^0 ) = \\textbf{0} $. The system is expressed as a Taylor series. Higher order terms will be ignored and the differential term expressed as the Jacobian: \n",
    "\\begin{equation}\n",
    "    \\textbf{f}(\\textbf{x}^0 + \\Delta \\textbf{x}^0) \\approx  \\textbf{f}(\\textbf{x}^0) + \\frac{\\textbf{df}(\\textbf{x}^0)}{\\textbf{dx}^0}\\Delta \\textbf{x}^0 \\approx \\textbf{f}(\\textbf{x}^0) + \\textbf{J}^0 \\Delta \\textbf{x}^0 \n",
    "\\end{equation}\n",
    "$\\Delta \\textbf{x}^0$ can be found using:\n",
    "\\begin{equation}\n",
    "    \\Delta \\textbf{x}^0 \\approx -[\\textbf{J}^0]^{-1}\\textbf{f}(\\textbf{x}^0)\n",
    "\\end{equation}\n",
    "At every iteration, being $v$ the iteration counter, \\textbf{x} can be updated as:\n",
    "\\begin{equation}\n",
    "    \\textbf{x}^{v+1} =\\textbf{x}^v -[\\textbf{J}^0]^{-1}\\textbf{f}(\\textbf{x}^0)\n",
    "\\end{equation}\n",
    "The convergence of the algorithm will be checked at every iteration. If $|\\textbf{x}^{v+1} - \\textbf{x}^v| < tolerance$, the algorithm has convergence and $\\textbf{x}^{v+1}$ can be considered as a root of the system. Else, the algorithm hasn't converged to the root of the equation and the process is repeated. "
   ]
  },
  {
   "cell_type": "code",
   "execution_count": 5,
   "metadata": {},
   "outputs": [
    {
     "data": {
      "image/png": "[encoded data removed]",
      "text/plain": [
       "<IPython.core.display.Image object>"
      ]
     },
     "execution_count": 5,
     "metadata": {},
     "output_type": "execute_result"
    }
   ],
   "source": [
    "from IPython.display import Image\n",
    "Image(filename='Newton-raphson.png')"
   ]
  },
  {
   "cell_type": "code",
   "execution_count": 6,
   "metadata": {},
   "outputs": [],
   "source": [
    "def klika2021_65(u,params = [0,1.1]):\n",
    "    a,b = params\n",
    "    f_u0 = a - u[0] + (u[0]**2)*u[1]\n",
    "    f_u1 = b - (u[0]**2)*u[1]\n",
    "    return f_u0,f_u1\n",
    "\n",
    "def jacobian_klika():\n",
    "    U,V=symbols('U'),symbols('V')\n",
    "    functions = Matrix(klika2021_65([U,V]))\n",
    "    jacobian_matrix = functions.jacobian([U,V])\n",
    "    return jacobian_matrix\n",
    "\n",
    "\n",
    "\n"
   ]
  },
  {
   "cell_type": "code",
   "execution_count": 7,
   "metadata": {},
   "outputs": [],
   "source": [
    "import numpy as np\n",
    "\n",
    "#This function return a loguniform distribution with values from 10^low to 10^high\n",
    "def loguniform(low=-3, high=3, size=None):\n",
    "    return (10)**(np.random.uniform(low, high, size))\n",
    "\n",
    "# - This function accepts an already existing distribution and a required number of samples\n",
    "# and outputs an array with samples distributed in a latin-hyper-cube sampling manner.\n",
    "def lhs_list(data,nsample):\n",
    "    m,nvar = data.shape\n",
    "    ran=np.random.uniform(size=(nsample,nvar))\n",
    "    s=np.zeros((nsample,nvar))\n",
    "    for j in range(0,nvar):\n",
    "        idx=np.random.permutation(nsample)+1\n",
    "        P=((idx-ran[:,j])/nsample)*100\n",
    "        s[:,j]= np.percentile(data[:,j],P)\n",
    "    return s\n",
    "\n",
    "# - Input number of initial conditions needed and the number of species in each sample obtain an array with the\n",
    "# initial conditions distributed in a lhs manner.\n",
    "def lhs_initial_conditions(n_initialconditions=10,n_species=2):\n",
    "    data = np.column_stack(([loguniform(size=100000)]*n_species))\n",
    "    initial_conditions = lhs_list(data,n_initialconditions)\n",
    "    return np.array(initial_conditions,dtype=np.float)\n",
    "\n"
   ]
  },
  {
   "cell_type": "code",
   "execution_count": 8,
   "metadata": {},
   "outputs": [],
   "source": [
    "def newton_raphson(x_guess, max_num_iter=15, tolerance=0.0001, alpha=1):\n",
    "    '''\n",
    "    Function for representing a Newton-Raphson iteration for multidimensional systems of equations\n",
    "    :param f: function class that must define the following methods:\n",
    "        - numDims(): Method that returns an integer number of variables in the system of equations\n",
    "        - getJacobian(np.ndarray): Method to compute the Jacobian of the system of equations at the current root estimate.The output is an n by n matrix where n is the number of variables in the system of equations\n",
    "\t\t- __call__(np.ndarray): Method to make this class act like a function operating on some input x\n",
    "    :param x_guess: an initial guess for the Newton-Raphson iteration\n",
    "    :param max_num_iter: a maximum number of iterations that will be taken\n",
    "    :param tolerance: a tolerance that will stop the sequence once the error drops below it\n",
    "    :param alpha: A coefficient that can tune the Newton-Raphson stepsize. Recommend setting alpha <= 1.\n",
    "    :return: A tuple with the root estimate, final error for the root, and the number of iterations it took\n",
    "    '''\n",
    "\n",
    "    # set the initial guess\n",
    "    x = x_guess\n",
    "\n",
    "    # compute function value at initial guess\n",
    "    fx = klika2021_65(x)\n",
    "\n",
    "\n",
    "    # define the initial value for the error and the starting iteration count\n",
    "    err = np.linalg.norm(fx)\n",
    "    iter = 0\n",
    "    \n",
    "    # perform the Newton-Raphson iteration algo\n",
    "    while err > tolerance and iter < max_num_iter and np.all(x!=0):\n",
    "#         print (x)\n",
    "\n",
    "        jac = jacobian_klika()\n",
    "        U,V= symbols('U'),symbols('V')\n",
    "        jac = jac.subs(U,x_guess[0])\n",
    "        jac = jac.subs(V,x_guess[1])\n",
    "        jac = np.array(jac,dtype=float)\n",
    "\n",
    "        # perform newton step\n",
    "        x = x - alpha*np.linalg.solve(jac,fx)\n",
    "\n",
    "        # update the function value at the new root estimate\n",
    "        fx = klika2021_65(x)\n",
    "\n",
    "\n",
    "        # compute the current root error\n",
    "        err = np.linalg.norm(fx)\n",
    "\n",
    "        # update the iteration counter\n",
    "        # print(\"Iteration {0}: Error of {1} with an estimate of {2}\".format(iter, err, x))\n",
    "\n",
    "        iter = iter + 1\n",
    "    if err < tolerance:\n",
    "        if sum(item < 0 for item in x) == 0 : #check that there are no negatives\n",
    "            return (x, err, 0)\n",
    "\n",
    "#     else:\n",
    "#         return (x,err,1)"
   ]
  },
  {
   "cell_type": "code",
   "execution_count": 9,
   "metadata": {},
   "outputs": [],
   "source": [
    "def newtonraphson_run(initial_conditions):\n",
    "    count=0\n",
    "    SteadyState_list = []\n",
    "    for n in range(len(initial_conditions)):\n",
    "        xn=[]\n",
    "        xn = newton_raphson(initial_conditions[n])\n",
    "            \n",
    "        if xn != None:  #the algorithm has found a steady state from this initial condition\n",
    "            if count == 0: #Always add to add clusteredsteadystates in the first iteration of this for loop.\n",
    "                SteadyState_list.append(xn[0])\n",
    "                count+=1\n",
    "            if count > 0: #if not the first iteration, the steady state it must be compared against previous steady states stored to see if its the same\n",
    "                logiclist = []\n",
    "                for i in range(count):\n",
    "                    logiclist.append(np.allclose(SteadyState_list[i], xn[0], rtol=10**-2, atol=0)) #PROCEED IF NO TRUES FOUND\n",
    "                if not True in logiclist: #no similar steady states previously found\n",
    "                    SteadyState_list.append(xn[0])\n",
    "                    \n",
    "                    count +=1\n",
    "\n",
    "    return SteadyState_list\n"
   ]
  },
  {
   "cell_type": "code",
   "execution_count": 10,
   "metadata": {
    "scrolled": false
   },
   "outputs": [
    {
     "name": "stdout",
     "output_type": "stream",
     "text": [
      "[1.1       0.9091477]\n"
     ]
    },
    {
     "name": "stderr",
     "output_type": "stream",
     "text": [
      "<ipython-input-6-63ba7bfbc4b8>:3: RuntimeWarning: overflow encountered in double_scalars\n",
      "  f_u0 = a - u[0] + (u[0]**2)*u[1]\n",
      "<ipython-input-6-63ba7bfbc4b8>:4: RuntimeWarning: overflow encountered in double_scalars\n",
      "  f_u1 = b - (u[0]**2)*u[1]\n"
     ]
    }
   ],
   "source": [
    "np.random.seed(2)\n",
    "initial_conditions1 = lhs_initial_conditions(n_initialconditions=10,n_species=2)   #obtain lhs sample for initial conditions\n",
    "SteadyState_list = newtonraphson_run(initial_conditions1) #\n",
    "\n",
    "for i in SteadyState_list:\n",
    "    print(i)\n",
    "    Ustar_NewtonRaphson=i\n"
   ]
  },
  {
   "cell_type": "markdown",
   "metadata": {},
   "source": [
    "#### Comparison of method's accuracy"
   ]
  },
  {
   "cell_type": "code",
   "execution_count": 11,
   "metadata": {},
   "outputs": [
    {
     "name": "stdout",
     "output_type": "stream",
     "text": [
      "[1.1, 0.9090909090909091] (0.0, 0.0)\n",
      "[1.1008924  0.90880478] (0.0005463499823277207, -0.0014387485587969984)\n",
      "[1.1       0.9091477] (6.872131348067967e-05, -6.872131348067967e-05)\n"
     ]
    }
   ],
   "source": [
    "print(Ustar_analytic, klika2021_65(Ustar_analytic))\n",
    "print(Ustar_ODE, klika2021_65(Ustar_ODE))\n",
    "print(Ustar_NewtonRaphson, klika2021_65(Ustar_NewtonRaphson))"
   ]
  },
  {
   "cell_type": "markdown",
   "metadata": {},
   "source": [
    "This system has one steady state"
   ]
  },
  {
   "cell_type": "code",
   "execution_count": null,
   "metadata": {},
   "outputs": [],
   "source": []
  }
 ],
 "metadata": {
  "kernelspec": {
   "display_name": "Python 3",
   "language": "python",
   "name": "python3"
  },
  "language_info": {
   "codemirror_mode": {
    "name": "ipython",
    "version": 3
   },
   "file_extension": ".py",
   "mimetype": "text/x-python",
   "name": "python",
   "nbconvert_exporter": "python",
   "pygments_lexer": "ipython3",
   "version": "3.8.0"
  }
 },
 "nbformat": 4,
 "nbformat_minor": 4
}
