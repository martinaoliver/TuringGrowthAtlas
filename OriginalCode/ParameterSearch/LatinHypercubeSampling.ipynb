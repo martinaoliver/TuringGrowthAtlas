{
 "cells": [
  {
   "cell_type": "markdown",
   "metadata": {},
   "source": [
    "In this notebook we create a dataframe with parameter sets that sample the parameter space. \n",
    "\n",
    "The distribution is a used is a loguniform distribution but the uniform is defined as well. The sampling method is latin hypercube sampling"
   ]
  },
  {
   "cell_type": "markdown",
   "metadata": {},
   "source": [
    "##### Imports"
   ]
  },
  {
   "cell_type": "code",
   "execution_count": 1,
   "metadata": {},
   "outputs": [],
   "source": [
    "\n",
    "import pickle\n",
    "import pandas as pd\n",
    "import numpy as np\n",
    "from datetime import date\n",
    "from tqdm import tqdm\n",
    "import matplotlib.pyplot as plt\n",
    "from mpl_toolkits.mplot3d import Axes3D\n"
   ]
  },
  {
   "cell_type": "markdown",
   "metadata": {},
   "source": [
    "##### Distributions to sample from"
   ]
  },
  {
   "cell_type": "code",
   "execution_count": 2,
   "metadata": {},
   "outputs": [],
   "source": [
    "#UNIFORM function returns a uniform distribution from 'low' to 'high' of a certain 'size'. \n",
    "def uniform(low=-3, high=3, size=None):\n",
    "    return np.random.uniform(low, high, size)\n",
    "\n",
    "#LOGUNIFORM function returns a loguniform distribution from 'low' to 'high' of a certain 'size'. \n",
    "#In the loguniform distribution, a positive random variable X is log-uniformly distributed if the logarithm of X is uniform distributed. \n",
    "#Also called the reciprocal distribution\n",
    "def loguniform(low=-3, high=3, size=None): \n",
    "    return (10) ** (np.random.uniform(low, high, size))\n"
   ]
  },
  {
   "cell_type": "markdown",
   "metadata": {},
   "source": [
    "##### Latin Hypercube Sampling algorithm\n",
    "\n",
    "Latin-Hypercube is an efficient method of sampling to cover efficiently the parameter space by using a only a few samples.\n",
    "\n",
    "To do this, we separate the space into x sections in every dimension. x is the number of samples desired. For a 2D space, we would obtain a Latin square where no samples can appear in the same column or row (for a 2D space). Such configuration is similar to having N rooks on a chess board without threatening each other. Latin hypercube sampling is a generalisation of this concept to an arbitrary number of dimensions. \n",
    "\n",
    "To generate the sectioning of the space, we need to provide an initial distribution in the form of a dataset. This can be done by providing the output of the uniform and loguniform functions. \n",
    "\n",
    "(Bergstra et al. 2012; Iman et al. 1980)\n"
   ]
  },
  {
   "cell_type": "code",
   "execution_count": 3,
   "metadata": {},
   "outputs": [],
   "source": [
    "def lhs(data, nsample): #data contains the information on the distribution. nsample is the number of samples desired (x). \n",
    "    m, nvar = len(data),1\n",
    "    ran = np.random.uniform(size=(nsample, nvar))\n",
    "    s = np.zeros((nsample, nvar))\n",
    "    for j in range(0, nvar):\n",
    "        idx = np.random.permutation(nsample) + 1\n",
    "        P = ((idx - ran[:, j]) / nsample) * 100\n",
    "        s[:, j] = np.percentile(data[:, j], P)\n",
    "    return s\n",
    "\n",
    "\n",
    "\n"
   ]
  },
  {
   "cell_type": "markdown",
   "metadata": {},
   "source": [
    "##### Function that creates dataframe\n",
    "\n"
   ]
  },
  {
   "cell_type": "code",
   "execution_count": 4,
   "metadata": {},
   "outputs": [],
   "source": [
    "def parameterfile_creator_function(n_param_sets): #number of parameter sets desired in the df (number of rows)\n",
    "    #First, an example distribution is created (loguniform or uniform).\n",
    "    loguniformdist = loguniform(size=1000000) \n",
    "    \n",
    "    #Parameters and their possible ranges\n",
    "    parameters_lhs = ['c1','c2','c3']\n",
    "    c1_range = (0.1, 10) \n",
    "    c2_range = (1, 100)\n",
    "    c3_range = (1, 100)\n",
    "    parameter_range_list = [c1_range,c2_range, c3_range]\n",
    "\n",
    "    \n",
    "    #Defining distributions to input into lhs function\n",
    "    \n",
    "\n",
    "    \n",
    "    \n",
    "    \n",
    "    \n",
    "    \n",
    "    \n",
    "    \n",
    "    \n",
    "    \n",
    "    \n",
    "    \n",
    "    \n",
    "    \n",
    "    \n",
    "    \n",
    "    \n",
    "    \n",
    "    #1. Adapt distribution to parameter rangeparameter_distribution_list = []\n",
    "    parameter_distribution_list = []\n",
    "    for parameter_range in parameter_range_list: \n",
    "        distribution = [x for x in loguniformdist if parameter_range[0] <= x <= parameter_range[1]]\n",
    "        parameter_distribution_list.append(distribution)\n",
    "        \n",
    "    #2. Adapt distributions so they are all of the same lenght\n",
    "    minimumlenghtdistribution = np.amin([len(x) for x in parameter_distribution_list])\n",
    "    for count,parameter_distribution in enumerate(parameter_distribution_list):\n",
    "        globals()[f'{parameters_lhs[count]}_distribution'] =  np.column_stack( (parameter_distribution[:minimumlenghtdistribution])).transpose()\n",
    "\n",
    "\n",
    "    #Sample using LHS\n",
    "    c1 = lhs(c1_distribution,n_param_sets)\n",
    "    c2 = lhs(c2_distribution,n_param_sets)\n",
    "    c3 = lhs(c3_distribution,n_param_sets)\n",
    "\n",
    "\n",
    "    #Define constants \n",
    "    #1 is the number of columns (if two constants, that would be a 2). \n",
    "    #1000 is the value of the constant\n",
    "    c4 = np.full((n_param_sets, 1), 1000) \n",
    " \n",
    "    #Define index column to identify parameter sets. \n",
    "    index = np.arange(1, n_param_sets + 1, dtype=np.int).reshape(n_param_sets, 1)\n",
    "    \n",
    "    #Define dataframe column names. Then concatenate LHS results and constants.\n",
    "    parameternames = ['index','c1','c2','c3','c4']\n",
    "    points = np.concatenate((index,c1,c2,c3, c4), 1)\n",
    "    df = pd.DataFrame(data=points, columns=parameternames)\n",
    "    df['index'] = df['index'].astype(int)\n",
    "    df = df.set_index('index')\n",
    "\n",
    "    return df #number of columns is the number of parameters. number of rows is the number of parameter sets / samples"
   ]
  },
  {
   "cell_type": "markdown",
   "metadata": {},
   "source": [
    "##### Execute code and functions\n",
    "\n"
   ]
  },
  {
   "cell_type": "markdown",
   "metadata": {},
   "source": [
    "Create dataframe and save it as pickle file"
   ]
  },
  {
   "cell_type": "code",
   "execution_count": 8,
   "metadata": {},
   "outputs": [],
   "source": [
    "n_param_sets = 100 \n",
    "df = parameterfile_creator_function(n_param_sets)\n",
    "pickle.dump(df, open('df.pkl', 'wb'))\n"
   ]
  },
  {
   "cell_type": "markdown",
   "metadata": {},
   "source": [
    "Print dataframe"
   ]
  },
  {
   "cell_type": "code",
   "execution_count": 9,
   "metadata": {},
   "outputs": [
    {
     "data": {
      "text/html": [
       "<div>\n",
       "<style scoped>\n",
       "    .dataframe tbody tr th:only-of-type {\n",
       "        vertical-align: middle;\n",
       "    }\n",
       "\n",
       "    .dataframe tbody tr th {\n",
       "        vertical-align: top;\n",
       "    }\n",
       "\n",
       "    .dataframe thead th {\n",
       "        text-align: right;\n",
       "    }\n",
       "</style>\n",
       "<table border=\"1\" class=\"dataframe\">\n",
       "  <thead>\n",
       "    <tr style=\"text-align: right;\">\n",
       "      <th></th>\n",
       "      <th>c1</th>\n",
       "      <th>c2</th>\n",
       "      <th>c3</th>\n",
       "      <th>c4</th>\n",
       "    </tr>\n",
       "    <tr>\n",
       "      <th>index</th>\n",
       "      <th></th>\n",
       "      <th></th>\n",
       "      <th></th>\n",
       "      <th></th>\n",
       "    </tr>\n",
       "  </thead>\n",
       "  <tbody>\n",
       "    <tr>\n",
       "      <th>1</th>\n",
       "      <td>0.445587</td>\n",
       "      <td>41.650574</td>\n",
       "      <td>48.361761</td>\n",
       "      <td>1000.0</td>\n",
       "    </tr>\n",
       "    <tr>\n",
       "      <th>2</th>\n",
       "      <td>0.667728</td>\n",
       "      <td>48.226396</td>\n",
       "      <td>26.241564</td>\n",
       "      <td>1000.0</td>\n",
       "    </tr>\n",
       "    <tr>\n",
       "      <th>3</th>\n",
       "      <td>0.152564</td>\n",
       "      <td>1.311921</td>\n",
       "      <td>1.346937</td>\n",
       "      <td>1000.0</td>\n",
       "    </tr>\n",
       "    <tr>\n",
       "      <th>4</th>\n",
       "      <td>0.284476</td>\n",
       "      <td>1.628657</td>\n",
       "      <td>91.579369</td>\n",
       "      <td>1000.0</td>\n",
       "    </tr>\n",
       "    <tr>\n",
       "      <th>5</th>\n",
       "      <td>3.033083</td>\n",
       "      <td>10.815844</td>\n",
       "      <td>33.478198</td>\n",
       "      <td>1000.0</td>\n",
       "    </tr>\n",
       "    <tr>\n",
       "      <th>...</th>\n",
       "      <td>...</td>\n",
       "      <td>...</td>\n",
       "      <td>...</td>\n",
       "      <td>...</td>\n",
       "    </tr>\n",
       "    <tr>\n",
       "      <th>96</th>\n",
       "      <td>1.276455</td>\n",
       "      <td>4.686500</td>\n",
       "      <td>22.118476</td>\n",
       "      <td>1000.0</td>\n",
       "    </tr>\n",
       "    <tr>\n",
       "      <th>97</th>\n",
       "      <td>0.913298</td>\n",
       "      <td>1.846728</td>\n",
       "      <td>10.193874</td>\n",
       "      <td>1000.0</td>\n",
       "    </tr>\n",
       "    <tr>\n",
       "      <th>98</th>\n",
       "      <td>0.228304</td>\n",
       "      <td>8.326357</td>\n",
       "      <td>52.468905</td>\n",
       "      <td>1000.0</td>\n",
       "    </tr>\n",
       "    <tr>\n",
       "      <th>99</th>\n",
       "      <td>0.106351</td>\n",
       "      <td>65.038189</td>\n",
       "      <td>1.609536</td>\n",
       "      <td>1000.0</td>\n",
       "    </tr>\n",
       "    <tr>\n",
       "      <th>100</th>\n",
       "      <td>2.008183</td>\n",
       "      <td>60.901176</td>\n",
       "      <td>28.425494</td>\n",
       "      <td>1000.0</td>\n",
       "    </tr>\n",
       "  </tbody>\n",
       "</table>\n",
       "<p>100 rows × 4 columns</p>\n",
       "</div>"
      ],
      "text/plain": [
       "             c1         c2         c3      c4\n",
       "index                                        \n",
       "1      0.445587  41.650574  48.361761  1000.0\n",
       "2      0.667728  48.226396  26.241564  1000.0\n",
       "3      0.152564   1.311921   1.346937  1000.0\n",
       "4      0.284476   1.628657  91.579369  1000.0\n",
       "5      3.033083  10.815844  33.478198  1000.0\n",
       "...         ...        ...        ...     ...\n",
       "96     1.276455   4.686500  22.118476  1000.0\n",
       "97     0.913298   1.846728  10.193874  1000.0\n",
       "98     0.228304   8.326357  52.468905  1000.0\n",
       "99     0.106351  65.038189   1.609536  1000.0\n",
       "100    2.008183  60.901176  28.425494  1000.0\n",
       "\n",
       "[100 rows x 4 columns]"
      ]
     },
     "execution_count": 9,
     "metadata": {},
     "output_type": "execute_result"
    }
   ],
   "source": [
    "df"
   ]
  },
  {
   "cell_type": "markdown",
   "metadata": {},
   "source": [
    "Plot to see that df is correct"
   ]
  },
  {
   "cell_type": "code",
   "execution_count": 10,
   "metadata": {},
   "outputs": [
    {
     "data": {
      "image/png": "[encoded data removed]",
      "text/plain": [
       "<Figure size 720x288 with 2 Axes>"
      ]
     },
     "metadata": {
      "needs_background": "light"
     },
     "output_type": "display_data"
    }
   ],
   "source": [
    "fig = plt.figure(figsize=(10,4))\n",
    "ax = fig.add_subplot(122, projection='3d')\n",
    "\n",
    "ax.scatter(df['c1'],df['c2'], df['c3'])\n",
    "\n",
    "ax3 = fig.add_subplot(121)\n",
    "\n",
    "plt.scatter(df['c1'], df['c2'])\n",
    "plt.show()"
   ]
  }
 ],
 "metadata": {
  "kernelspec": {
   "display_name": "Python 3",
   "language": "python",
   "name": "python3"
  },
  "language_info": {
   "codemirror_mode": {
    "name": "ipython",
    "version": 3
   },
   "file_extension": ".py",
   "mimetype": "text/x-python",
   "name": "python",
   "nbconvert_exporter": "python",
   "pygments_lexer": "ipython3",
   "version": "3.8.0"
  }
 },
 "nbformat": 4,
 "nbformat_minor": 4
}
